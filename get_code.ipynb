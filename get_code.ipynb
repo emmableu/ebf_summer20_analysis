{
 "cells": [
  {
   "cell_type": "code",
   "execution_count": 2,
   "metadata": {},
   "outputs": [
    {
     "name": "stderr",
     "output_type": "stream",
     "text": [
      " 42%|████▏     | 19673/46655 [00:00<00:00, 100586.71it/s]"
     ]
    },
    {
     "name": "stdout",
     "output_type": "stream",
     "text": [
      "team_id:  b_2_0\n",
      "team_id:  b_5_0\n",
      "team_id:  b_6_0\n",
      "team_id:  a_3_0\n",
      "team_id:  a_2_1\n",
      "team_id:  a_1_1\n",
      "team_id:  b_3_1\n",
      "team_id:  a_3_0\n",
      "team_id:  b_2_1\n",
      "team_id:  b_1_1\n",
      "team_id:  b_4_1\n",
      "team_id:  a_2_0\n",
      "team_id:  b_6_1\n"
     ]
    },
    {
     "name": "stderr",
     "output_type": "stream",
     "text": [
      " 68%|██████▊   | 31597/46655 [00:00<00:00, 74839.06it/s] "
     ]
    },
    {
     "name": "stdout",
     "output_type": "stream",
     "text": [
      "team_id:  b_4_0\n",
      "team_id:  a_1_0\n",
      "team_id:  a_5_0\n",
      "team_id:  a_3_1\n",
      "team_id:  b_3_0\n",
      "team_id:  b_5_1\n",
      "team_id:  a_5_1\n",
      "team_id:  a_6_0\n",
      "team_id:  b_1_0\n"
     ]
    },
    {
     "name": "stderr",
     "output_type": "stream",
     "text": [
      "100%|██████████| 46655/46655 [00:00<00:00, 87013.03it/s]"
     ]
    },
    {
     "name": "stdout",
     "output_type": "stream",
     "text": [
      "team_id:  a_4_0\n",
      "team_id:  a_4_1\n",
      "team_id:  a_6_1\n",
      "team_id:  a_3_1\n"
     ]
    },
    {
     "name": "stderr",
     "output_type": "stream",
     "text": [
      "\n"
     ]
    }
   ],
   "source": [
    "import pandas as pd\n",
    "from student_group_maps import *\n",
    "from save_load_pickle import *\n",
    "from datetime import datetime\n",
    "\n",
    "trace = pd.read_csv(\"../trace_data/trace.csv\")\n",
    "trace = trace.sort_values(by=['userID', 'time'])\n",
    "trace = trace[trace.assignmentID=='day2']\n",
    "\n",
    "\n",
    "\n",
    "def trace2code(trace):\n",
    "    code_data = pd.DataFrame(columns=['teamID', 'code'])\n",
    "    old_team_id = ''\n",
    "    for i in tqdm(trace.index):\n",
    "        if not isinstance(trace.at[i, 'code'], str):\n",
    "            continue\n",
    "        user_id = trace.at[i, 'userID']\n",
    "        try:\n",
    "            team_id = userID_teamID_maps[user_id]\n",
    "        except:\n",
    "            continue\n",
    "        if team_id != old_team_id:\n",
    "            if old_team_id:\n",
    "                new_row = {\"teamID\": old_team_id, \"code\": code}\n",
    "                code_data.loc[len(code_data)] = new_row\n",
    "            old_team_id = team_id\n",
    "        code = trace.at[i, 'code']\n",
    "\n",
    "    code_data = code_data.sort_values(by=['teamID'])\n",
    "    save_obj(code_data, 'code_data', 'results')\n",
    "    \n",
    "trace2code(trace)\n",
    "\n",
    "# def code2xml(code_data):\n",
    "#     combined_code_data = pd.DataFrame(columns = ['combinedID', 'code'])\n",
    "#     old_combined_team_id = ''\n",
    "#     for i in code_data.index:\n",
    "#         team_id = code_data.at[i, 'teamID']\n",
    "#         combined_team_id = team_id[0:3]\n",
    "#         if combined_team_id != old_combined_team_id:\n",
    "#             if old_combined_team_id:\n",
    "#                 new_row = {\"combinedID\": combined_team_id, \"code\": code}\n",
    "#                 combined_code_data.loc[len(combined_code_data)]= new_row\n",
    "#             old_combined_team_id = combined_team_id\n",
    "#         code = code_data.at[i, 'code']\n",
    "#     save_obj(combined_code_data, 'combined_code_data', 'results')\n",
    "\n",
    "# code_data = load_obj(\"code_data\", 'results')\n",
    "# code2xml(code_data)"
   ]
  },
  {
   "cell_type": "code",
   "execution_count": null,
   "metadata": {},
   "outputs": [],
   "source": []
  }
 ],
 "metadata": {
  "kernelspec": {
   "display_name": "Python 3",
   "language": "python",
   "name": "python3"
  },
  "language_info": {
   "codemirror_mode": {
    "name": "ipython",
    "version": 3
   },
   "file_extension": ".py",
   "mimetype": "text/x-python",
   "name": "python",
   "nbconvert_exporter": "python",
   "pygments_lexer": "ipython3",
   "version": "3.7.4"
  }
 },
 "nbformat": 4,
 "nbformat_minor": 4
}
